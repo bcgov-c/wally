{
 "metadata": {
  "language_info": {
   "codemirror_mode": {
    "name": "ipython",
    "version": 3
   },
   "file_extension": ".py",
   "mimetype": "text/x-python",
   "name": "python",
   "nbconvert_exporter": "python",
   "pygments_lexer": "ipython3",
   "version": 3
  },
  "orig_nbformat": 2
 },
 "nbformat": 4,
 "nbformat_minor": 2,
 "cells": [
  {
   "cell_type": "code",
   "execution_count": null,
   "metadata": {},
   "outputs": [],
   "source": [
    "import json\n",
    "import pandas as pd\n",
    "import matplotlib.pyplot as plt\n",
    "from xgboost import XGBRegressor\n",
    "from sklearn.model_selection import train_test_split, KFold\n",
    "from sklearn.metrics import mean_squared_error as MSE, r2_score\n",
    "import math\n",
    "import time\n",
    "from xgboost import plot_importance\n",
    "\n",
    "all_zones_df = pd.read_csv(\"../data/scsb_all_zones.csv\")\n",
    "zone_25_df = pd.read_csv(\"../data/scsb_zone_25.csv\")\n",
    "zone_26_df = pd.read_csv(\"../data/scsb_zone_26.csv\")\n",
    "zone_27_df = pd.read_csv(\"../data/scsb_zone_27.csv\")\n",
    "\n",
    "month_dependant_variables = ['jan_dist','feb_dist','mar_dist','apr_dist','may_dist','jun_dist','jul_dist','aug_dist','sep_dist','oct_dist','nov_dist','dec_dist']"
   ]
  },
  {
   "cell_type": "code",
   "execution_count": null,
   "metadata": {},
   "outputs": [],
   "source": [
    "data = zone_25_df\n",
    "dependant_variable = 'mean_annual_runoff'\n",
    "start_time = time.time()"
   ]
  },
  {
   "cell_type": "code",
   "execution_count": null,
   "metadata": {},
   "outputs": [],
   "source": [
    "\n",
    "# features_df = data[['annual_precipitation', 'drainage_area', 'median_elevation', \\\n",
    "#   'average_slope', 'glacial_coverage', 'potential_evapo_transpiration', dependant_variable]]\n",
    "\n",
    "# zone 25 independant variables\n",
    "# features_df = data[['annual_precipitation', 'glacial_coverage', 'potential_evapo_transpiration', dependant_variable]]\n",
    "\n",
    "# zone 26 independant variables\n",
    "# features_df = data[['median_elevation', 'glacial_coverage', 'annual_precipitation', 'potential_evapo_transpiration', dependant_variable]]\n",
    "\n",
    "# zone 27 independant variables\n",
    "# features_df = data[['median_elevation', 'annual_precipitation', 'average_slope', dependant_variable]]\n",
    "features_df = data[['median_elevation', 'solar_exposure', 'glacial_coverage', 'annual_precipitation', 'potential_evapo_transpiration', 'average_slope', 'drainage_area', dependant_variable]]\n",
    "\n",
    "X = features_df.drop([dependant_variable], axis=1)\n",
    "y = features_df.get(dependant_variable)\n",
    "\n",
    "X = X.tail(30)\n",
    "y = y.tail(30)\n",
    "\n",
    "X_train, X_test, y_train, y_test = train_test_split(X, y, test_size=0.10, random_state=42)"
   ]
  },
  {
   "cell_type": "code",
   "execution_count": null,
   "metadata": {},
   "outputs": [],
   "source": [
    "# One Time Split\n",
    "xgb = XGBRegressor(random_state=42)\n",
    "xgb.fit(X_train, y_train)\n",
    "xgb_pred = xgb.predict(X_test)\n",
    "print('Score XGBoost Regressor', xgb.score(X_test, y_test))\n",
    "plot_importance(xgb, title='One Time Split')\n",
    "\n",
    "# plt.bar(range(len(xgb.feature_importances_)), xgb.feature_importances_)\n",
    "# plt.show()"
   ]
  },
  {
   "cell_type": "code",
   "execution_count": null,
   "metadata": {},
   "outputs": [],
   "source": [
    "# KFold Validation\n",
    "folds = 10\n",
    "best_model = {}\n",
    "max_r2, min_r2, acc_r2 = 0, math.inf, []\n",
    "kfold = KFold(n_splits=folds, shuffle=True, random_state=42)\n",
    "for train_index, test_index in kfold.split(X, y):\n",
    "    # print(\"--- %s seconds ---\" % (time.time() - start_time))\n",
    "    print(\"TRAIN:\", train_index, \"TEST:\", test_index)\n",
    "\n",
    "    X_train , X_test = X.iloc[train_index,:],X.iloc[test_index,:]\n",
    "    y_train , y_test = y[train_index] , y[test_index]\n",
    "\n",
    "    model = XGBRegressor(random_state=42)\n",
    "    model.fit(X_train, y_train)\n",
    "    y_pred = model.predict(X_test)\n",
    "    score = model.score(X_test, y_test)\n",
    "    acc_r2.append(score)\n",
    "    if score > max_r2:\n",
    "        max_r2 = score\n",
    "        best_model = model\n",
    "    if score < min_r2:\n",
    "        min_r2 = score\n",
    "\n",
    "avg_r2_score = sum(acc_r2)/folds\n",
    "print('r2 of each fold - {}'.format(acc_r2))\n",
    "print('R2 values:')\n",
    "print(\"min:\", min_r2)\n",
    "print('avg: {}'.format(avg_r2_score))\n",
    "print(\"max:\", max_r2) \n",
    "print(\"Feature Importances:\", best_model.feature_importances_)\n",
    "plot_importance(best_model, title='KFold Validation')\n",
    "# plt.bar(range(len(best_model.feature_importances_)), best_model.feature_importances_)\n",
    "plt.show()"
   ]
  },
  {
   "cell_type": "code",
   "execution_count": null,
   "metadata": {},
   "outputs": [],
   "source": []
  }
 ]
}